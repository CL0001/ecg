{
 "cells": [
  {
   "cell_type": "code",
   "execution_count": 2,
   "metadata": {},
   "outputs": [],
   "source": [
    "import torch\n",
    "import numpy as np"
   ]
  },
  {
   "cell_type": "markdown",
   "metadata": {},
   "source": [
    "## Trim and cast labels into wanted format"
   ]
  },
  {
   "cell_type": "code",
   "execution_count": null,
   "metadata": {},
   "outputs": [
    {
     "data": {
      "text/plain": [
       "array([[0., 0., 0., 0., 0., 0.],\n",
       "       [0., 0., 0., 0., 1., 0.],\n",
       "       [1., 0., 0., 0., 0., 0.],\n",
       "       ...,\n",
       "       [0., 0., 0., 0., 0., 0.],\n",
       "       [0., 0., 0., 0., 0., 0.],\n",
       "       [0., 0., 0., 0., 0., 0.]], dtype=float32)"
      ]
     },
     "execution_count": 5,
     "metadata": {},
     "output_type": "execute_result"
    }
   ],
   "source": [
    "labels = np.loadtxt(\"./ecg_resources/annotations.csv\", delimiter=',', skiprows=1, dtype=str)\n",
    "trimed_labels = np.delete(labels, [0, 1, 2, 3, -1], axis=1) # keeps only these columns -> ['1dAVb' 'RBBB' 'LBBB' 'SB' 'AF' 'ST']\n",
    "casted_labels = trimed_labels.astype(np.float32)\n",
    "casted_labels"
   ]
  },
  {
   "cell_type": "markdown",
   "metadata": {},
   "source": [
    "## Check if the saved .npz format is valid"
   ]
  },
  {
   "cell_type": "code",
   "execution_count": 7,
   "metadata": {},
   "outputs": [
    {
     "name": "stdout",
     "output_type": "stream",
     "text": [
      "Sample contains: ['signals', 'labels']\n",
      "Signals shape: (100, 2200, 8), Labels shape: (100, 6)\n",
      "Singals dtype: float32, Labels dtype: float32\n"
     ]
    }
   ],
   "source": [
    "sample = np.load(\"./data/batch-99.npz\")\n",
    "print(f\"Sample contains: {sample.files}\")\n",
    "print(f\"Signals shape: {sample[\"signals\"].shape}, Labels shape: {sample[\"labels\"].shape}\")\n",
    "print(f\"Singals dtype: {sample[\"signals\"].dtype}, Labels dtype: {sample[\"labels\"].dtype}\")"
   ]
  },
  {
   "cell_type": "markdown",
   "metadata": {},
   "source": [
    "## Check if PyTorch dataset is valid"
   ]
  },
  {
   "cell_type": "code",
   "execution_count": 8,
   "metadata": {},
   "outputs": [
    {
     "name": "stdout",
     "output_type": "stream",
     "text": [
      "Dataset signals shape: (298, 100, 2200, 8), Dataset labels shape: (298, 100, 6)\n",
      "[[[-0.025  -0.015   0.055  ...  0.145   0.035  -0.065 ]\n",
      "  [-0.025  -0.015   0.045  ...  0.15    0.045  -0.06  ]\n",
      "  [-0.02   -0.005   0.05   ...  0.155   0.045  -0.055 ]\n",
      "  ...\n",
      "  [-0.035  -0.035   0.065  ...  0.14    0.035  -0.065 ]\n",
      "  [-0.035  -0.035   0.065  ...  0.14    0.035  -0.07  ]\n",
      "  [-0.025  -0.03    0.065  ...  0.135   0.03   -0.07  ]]\n",
      "\n",
      " [[ 0.08    0.18    0.21   ...  0.21    0.25    0.35  ]\n",
      "  [ 0.045   0.17    0.17   ...  0.2     0.215   0.32  ]\n",
      "  [ 0.      0.18    0.105  ...  0.19    0.17    0.29  ]\n",
      "  ...\n",
      "  [ 0.09    0.215   0.31   ...  0.23    0.285   0.425 ]\n",
      "  [ 0.1     0.2     0.26   ...  0.215   0.28    0.395 ]\n",
      "  [ 0.11    0.19    0.23   ...  0.215   0.27    0.37  ]]\n",
      "\n",
      " [[-0.5577 -0.2418  3.2682 ...  4.6839  4.3875  4.9023]\n",
      "  [-0.5616 -0.2418  3.2643 ...  4.6761  4.3797  4.8984]\n",
      "  [-0.5577 -0.2379  3.2682 ...  4.68    4.3836  4.9023]\n",
      "  ...\n",
      "  [-0.468  -2.3439  0.0078 ...  0.6552  0.6825  1.3728]\n",
      "  [-0.4719 -2.3439  0.0078 ...  0.6513  0.6786  1.3728]\n",
      "  [-0.4719 -2.3439  0.0078 ...  0.6552  0.6786  1.3728]]\n",
      "\n",
      " [[-0.0078 -0.0858 -0.3159 ...  0.1599 -0.1248  0.1365]\n",
      "  [-0.0156 -0.0897 -0.3159 ...  0.1443 -0.1365  0.1248]\n",
      "  [-0.0273 -0.1014 -0.3198 ...  0.1248 -0.1482  0.117 ]\n",
      "  ...\n",
      "  [-0.1326 -0.3081 -0.39   ... -0.156  -0.3198  0.0351]\n",
      "  [-0.1326 -0.3081 -0.3939 ... -0.156  -0.3159  0.0351]\n",
      "  [-0.1287 -0.3042 -0.3939 ... -0.1521 -0.3159  0.0351]]\n",
      "\n",
      " [[-1.0764 -3.9     1.8447 ...  1.911   2.2113  1.8252]\n",
      "  [-1.0647 -3.9156  1.8525 ...  1.9149  2.2152  1.833 ]\n",
      "  [-1.0647 -3.9312  1.8525 ...  1.9149  2.2152  1.833 ]\n",
      "  ...\n",
      "  [-0.8892 -4.2705  1.5561 ...  1.56    2.4375  2.2815]\n",
      "  [-0.897  -4.2588  1.599  ...  1.599   2.379   2.1996]\n",
      "  [-0.9204 -4.2393  1.638  ...  1.6146  2.301   2.1021]]] [[0. 0. 0. 0. 0. 0.]\n",
      " [0. 0. 0. 0. 1. 0.]\n",
      " [1. 0. 0. 0. 0. 0.]\n",
      " [0. 0. 1. 0. 0. 0.]\n",
      " [0. 0. 0. 0. 0. 0.]]\n"
     ]
    }
   ],
   "source": [
    "data = torch.load('dataset.pt', weights_only=False)\n",
    "print(f\"Dataset signals shape: {data[\"data\"].shape}, Dataset labels shape: {data[\"labels\"].shape}\")\n",
    "print(data[\"data\"][0, :5], data[\"labels\"][0, :5])"
   ]
  }
 ],
 "metadata": {
  "kernelspec": {
   "display_name": "env",
   "language": "python",
   "name": "python3"
  },
  "language_info": {
   "codemirror_mode": {
    "name": "ipython",
    "version": 3
   },
   "file_extension": ".py",
   "mimetype": "text/x-python",
   "name": "python",
   "nbconvert_exporter": "python",
   "pygments_lexer": "ipython3",
   "version": "3.12.9"
  }
 },
 "nbformat": 4,
 "nbformat_minor": 2
}
