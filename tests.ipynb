{
 "cells": [
  {
   "cell_type": "code",
   "execution_count": null,
   "metadata": {},
   "outputs": [],
   "source": [
    "import torch\n",
    "import numpy as np"
   ]
  },
  {
   "cell_type": "markdown",
   "metadata": {},
   "source": [
    "## Trim and cast labels into wanted format"
   ]
  },
  {
   "cell_type": "code",
   "execution_count": null,
   "metadata": {},
   "outputs": [],
   "source": [
    "labels = np.loadtxt(\"./ecg_resources/annotations.csv\", delimiter=',', skiprows=1, dtype=str)\n",
    "trimed_labels = np.delete(labels, [0, 1, 2, 3, -1], axis=1)\n",
    "casted_labels = trimed_labels.astype(np.float32)\n",
    "print(casted_labels)"
   ]
  },
  {
   "cell_type": "markdown",
   "metadata": {},
   "source": [
    "## Check if the saved .npz format is valid"
   ]
  },
  {
   "cell_type": "code",
   "execution_count": null,
   "metadata": {},
   "outputs": [],
   "source": [
    "sample = np.load(\"./data/batch-99.npz\")\n",
    "print(sample.files) # files -> ['signals', 'labels']\n",
    "print(sample[\"signals\"].shape, sample[\"labels\"].shape) # shapes -> signals(100, 2200, 8), labels(100, 6)\n",
    "print(sample[\"signals\"].dtype, sample[\"labels\"].dtype) # dtypes -> float32, float32"
   ]
  },
  {
   "cell_type": "markdown",
   "metadata": {},
   "source": [
    "## Check if PyTorch dataset is valid"
   ]
  },
  {
   "cell_type": "code",
   "execution_count": null,
   "metadata": {},
   "outputs": [],
   "source": [
    "data = torch.load('dataset.pt', weights_only=False)\n",
    "print(data[\"data\"].shape, data[\"labels\"].shape) # shapes -> data(298, 100, 2200, 8), labels(298, 100, 6)\n",
    "print(data[\"data\"][0, :5], data[\"labels\"][0, :5]) # fine\n"
   ]
  }
 ],
 "metadata": {
  "kernelspec": {
   "display_name": "env",
   "language": "python",
   "name": "python3"
  },
  "language_info": {
   "name": "python",
   "version": "3.12.9"
  }
 },
 "nbformat": 4,
 "nbformat_minor": 2
}
