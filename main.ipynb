{
 "cells": [
  {
   "cell_type": "markdown",
   "metadata": {},
   "source": [
    "# Desease prediction by ECG"
   ]
  },
  {
   "cell_type": "markdown",
   "metadata": {},
   "source": [
    "## Data processing"
   ]
  },
  {
   "cell_type": "code",
   "execution_count": null,
   "metadata": {},
   "outputs": [],
   "source": [
    "import os\n",
    "import numpy as np\n",
    "import wfdb"
   ]
  },
  {
   "cell_type": "code",
   "execution_count": null,
   "metadata": {},
   "outputs": [],
   "source": [
    "data_path = \"./ecg_resources/data\"\n",
    "label_path = \"./ecg_resources/annotations.csv\"\n",
    "output_path = \"./data\"\n",
    "\n",
    "min_length = 2200 # this is length of the shortest timestamp\n",
    "batch = []\n",
    "\n",
    "labels = np.loadtxt(label_path, delimiter=',', skiprows=1, dtype=str)\n",
    "trimed_labels = np.delete(labels, [0, 1, 2, 3, -1], axis=1) # keeps only these columns -> ['1dAVb' 'RBBB' 'LBBB' 'SB' 'AF' 'ST']\n",
    "casted_labels = trimed_labels.astype(np.float32)\n",
    "\n",
    "# labels preview\n",
    "# [[0. 0. 0. 0. 0. 0.]\n",
    "#  [0. 0. 0. 0. 1. 0.]\n",
    "#  [1. 0. 0. 0. 0. 0.]\n",
    "#  ...\n",
    "#  [0. 0. 0. 0. 0. 0.]\n",
    "#  [0. 0. 0. 0. 0. 0.]\n",
    "#  [0. 0. 0. 0. 0. 0.]]\n",
    "\n",
    "filename = \"batch\"\n",
    "file_group = 1\n",
    "\n",
    "os.makedirs(output_path, exist_ok=True)"
   ]
  },
  {
   "cell_type": "code",
   "execution_count": null,
   "metadata": {},
   "outputs": [],
   "source": [
    "while file_group <= 39_999:\n",
    "    record_name = f\"TNMG{file_group}_N1\"\n",
    "    print(f\"Processing record: {record_name}\")\n",
    "    try:\n",
    "        record_signal = wfdb.rdrecord(os.path.join(data_path, record_name)).p_signal\n",
    "\n",
    "        if record_signal.shape[0] > min_length:\n",
    "            trimmed_signal = record_signal[:min_length, :]\n",
    "        else:\n",
    "            trimmed_signal = record_signal\n",
    "\n",
    "        batch.append(trimmed_signal)\n",
    "\n",
    "    except Exception as e:\n",
    "        print(f\"Can't load file: {record_name}, error: {e}\\n\")\n",
    "        file_group += 1\n",
    "        continue\n",
    "\n",
    "    if len(batch) == 100:\n",
    "        numpy_array = np.array(batch, dtype=np.float32)\n",
    "        trimmed_labels = casted_labels[:100]\n",
    "\n",
    "        np.savez(os.path.join(output_path, f\"{filename}-{int(file_group / 100)}.npz\"),\n",
    "                 signals=numpy_array, labels=trimmed_labels)\n",
    "\n",
    "        print(f\"Batch saved as {filename}-{int(file_group / 100)}.npz\\n\")\n",
    "\n",
    "        batch = []\n",
    "        casted_labels = casted_labels[100:]\n",
    "\n",
    "    file_group += 1"
   ]
  },
  {
   "cell_type": "markdown",
   "metadata": {},
   "source": [
    "## Creating a PyTorch dataset"
   ]
  },
  {
   "cell_type": "code",
   "execution_count": 1,
   "metadata": {},
   "outputs": [
    {
     "data": {
      "text/plain": [
       "'2.5.1+cu124'"
      ]
     },
     "execution_count": 1,
     "metadata": {},
     "output_type": "execute_result"
    }
   ],
   "source": [
    "import os\n",
    "import numpy as np\n",
    "import torch\n",
    "\n",
    "torch.__version__"
   ]
  },
  {
   "cell_type": "code",
   "execution_count": null,
   "metadata": {},
   "outputs": [],
   "source": [
    "input_path = \"./data\"\n",
    "\n",
    "data = []\n",
    "labels = []\n",
    "\n",
    "for i, file in enumerate(os.listdir(input_path)):\n",
    "    print(f\"{i}. processing file: {file}\")\n",
    "    file_path = os.path.join(input_path, file)\n",
    "\n",
    "    record = np.load(file_path)\n",
    "    signals = record[\"signals\"]\n",
    "    label = record[\"labels\"]\n",
    "\n",
    "    data.append(signals)\n",
    "    labels.append(label)\n",
    "\n",
    "data = np.array(data)\n",
    "labels = np.array(labels)\n",
    "\n",
    "torch.save({'data': data, 'labels': labels}, 'dataset.pt')"
   ]
  },
  {
   "cell_type": "markdown",
   "metadata": {},
   "source": [
    "## Dataset class"
   ]
  },
  {
   "cell_type": "code",
   "execution_count": null,
   "metadata": {},
   "outputs": [],
   "source": [
    "import torch\n",
    "from torch.utils.data import Dataset\n",
    "\n",
    "class ECGDataset(Dataset):\n",
    "    def __init__(self, data, labels):\n",
    "        # Convert the data and labels to torch tensors\n",
    "        self.data = torch.tensor(data, dtype=torch.float32)\n",
    "        self.labels = torch.tensor(labels, dtype=torch.long)  # Assume labels are integers (class indices)\n",
    "\n",
    "    def __len__(self):\n",
    "        return len(self.data)\n",
    "\n",
    "    def __getitem__(self, index):\n",
    "        x = self.data[index]  # Shape: (100, 2200, 8)\n",
    "        y = self.labels[index]  # Shape: (100, 6) - multi-class labels for each sequence\n",
    "\n",
    "        # Convert (100, 2200, 8) → (100, 8, 2200) to match input shape (channels, timesteps)\n",
    "        x = x.permute(0, 2, 1)  # (100, 2200, 8) → (100, 8, 2200)\n",
    "\n",
    "        # For multi-class classification, you need one label per sample, not one for each sequence\n",
    "        # We will take the class label of the first sequence (or average it, depending on your task)\n",
    "        y = y.argmax(dim=1)  # Assuming y is a one-hot vector, take the max index as the class\n",
    "\n",
    "        return x, y"
   ]
  },
  {
   "cell_type": "markdown",
   "metadata": {},
   "source": [
    "## Model class"
   ]
  },
  {
   "cell_type": "code",
   "execution_count": null,
   "metadata": {},
   "outputs": [],
   "source": [
    "from torch import nn\n",
    "from torch.nn import functional as F\n",
    "\n",
    "class ECGCNN(nn.Module):\n",
    "    def __init__(self, num_classes=6):\n",
    "        super(ECGCNN, self).__init__()\n",
    "        self.conv1 = nn.Conv2d(in_channels=1600, out_channels=16, kernel_size=(3, 3), stride=(1, 1), padding=(1, 1))\n",
    "        self.conv2 = nn.Conv2d(in_channels=16, out_channels=32, kernel_size=(3, 3), stride=(1, 1), padding=(1, 1))\n",
    "        self.pool = nn.MaxPool2d(kernel_size=(2, 2), stride=(2, 2))\n",
    "        self.fc1 = nn.Linear(35200, 128)  # Adjust based on your input size\n",
    "        self.fc2 = nn.Linear(128, num_classes)\n",
    "\n",
    "    def forward(self, x):\n",
    "        x = self.pool(F.relu(self.conv1(x)))\n",
    "        x = self.pool(F.relu(self.conv2(x)))\n",
    "        print(x.shape)\n",
    "        #x = x.view(-1, 32 * 550 * 50)  # Flatten the tensor\n",
    "        x = x.flatten()\n",
    "        x = F.relu(self.fc1(x))\n",
    "        x = self.fc2(x)\n",
    "        return x"
   ]
  },
  {
   "cell_type": "markdown",
   "metadata": {},
   "source": [
    "## Model training"
   ]
  },
  {
   "cell_type": "code",
   "execution_count": null,
   "metadata": {},
   "outputs": [],
   "source": [
    "import torch\n",
    "from model import ECGCNN\n",
    "from torch import nn, optim\n",
    "from dataset import ECGDataset\n",
    "from torch.utils.data import DataLoader\n",
    "\n",
    "device = \"cuda\" if torch.cuda.is_available() else \"cpu\"\n",
    "\n",
    "# Instance of model, loss function, and optimizer\n",
    "model = ECGCNN().to(device)\n",
    "\n",
    "loss_fn = nn.CrossEntropyLoss()\n",
    "optimizer = optim.Adam(params=model.parameters(), lr=0.001)\n",
    "\n",
    "# Create dataloader\n",
    "loaded_data = torch.load('dataset.pt', weights_only=False)\n",
    "\n",
    "dataset = ECGDataset(loaded_data['data'], loaded_data['labels'])  # shape -> data(298, 100, 2200, 8), labels(100)\n",
    "dataloader = DataLoader(dataset, batch_size=16, shuffle=True)\n",
    "dataloader_length = len(dataloader)\n",
    "\n",
    "# Training loop\n",
    "epochs = 300\n",
    "for epoch in range(epochs):\n",
    "    running_loss = 0.0  # To accumulate loss for each epoch\n",
    "    for i, (inputs, labels) in enumerate(dataloader):\n",
    "        # Move data to the correct device\n",
    "        inputs, labels = inputs.to(device), labels.to(device)\n",
    "\n",
    "        # Reshape inputs to [batch_size, 8, 2200]\n",
    "        inputs = inputs.permute(0, 3, 2, 1).reshape(-1, 8, 2200)\n",
    "\n",
    "        # Forward pass\n",
    "        outputs = model(inputs)\n",
    "        print(outputs.shape, labels.shape)\n",
    "        loss = loss_fn(outputs, labels.argmax(dim=1))  # Convert one-hot to class indices\n",
    "\n",
    "        # Backward pass and optimization\n",
    "        optimizer.zero_grad()\n",
    "        loss.backward()\n",
    "        optimizer.step()\n",
    "\n",
    "        # Accumulate loss\n",
    "        running_loss += loss.item()\n",
    "\n",
    "    # Print average loss for the epoch\n",
    "    epoch_loss = running_loss / dataloader_length\n",
    "    print(f'Epoch [{epoch+1}/{epochs}], Loss: {epoch_loss:.4f}')\n",
    "\n",
    "# Evaluation\n",
    "model.eval()  # Set the model to evaluation mode\n",
    "with torch.inference_mode():\n",
    "    correct = 0\n",
    "    total = 0\n",
    "    for inputs, labels in dataloader:\n",
    "        # Move data to the correct device\n",
    "        inputs, labels = inputs.to(device), labels.to(device)\n",
    "\n",
    "        # Reshape inputs to [batch_size, 8, 2200]\n",
    "        inputs = inputs.view(-1, 8, 2200)\n",
    "\n",
    "        # Forward pass\n",
    "        outputs = model(inputs)\n",
    "        _, predicted = torch.max(outputs.data, 1)\n",
    "\n",
    "        # Calculate accuracy\n",
    "        total += labels.size(0)\n",
    "        correct += (predicted == labels.argmax(dim=1)).sum().item()\n",
    "\n",
    "    print(f'Accuracy of the model on the test images: {100 * correct / total:.2f} %')\n",
    "\n",
    "# Save trained model\n",
    "torch.save(model.state_dict(), \"ecg_classifier.pth\")\n",
    "print(\"Training complete, model saved!\")\n"
   ]
  }
 ],
 "metadata": {
  "kernelspec": {
   "display_name": "env",
   "language": "python",
   "name": "python3"
  },
  "language_info": {
   "codemirror_mode": {
    "name": "ipython",
    "version": 3
   },
   "file_extension": ".py",
   "mimetype": "text/x-python",
   "name": "python",
   "nbconvert_exporter": "python",
   "pygments_lexer": "ipython3",
   "version": "3.12.9"
  }
 },
 "nbformat": 4,
 "nbformat_minor": 2
}
