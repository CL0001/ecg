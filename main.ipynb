{
 "cells": [
  {
   "cell_type": "markdown",
   "metadata": {},
   "source": [
    "# Desease prediction by ECG"
   ]
  },
  {
   "cell_type": "markdown",
   "metadata": {},
   "source": [
    "## Data processing"
   ]
  },
  {
   "cell_type": "code",
   "execution_count": 3,
   "metadata": {},
   "outputs": [],
   "source": [
    "import os\n",
    "import numpy as np\n",
    "import wfdb"
   ]
  },
  {
   "cell_type": "code",
   "execution_count": null,
   "metadata": {},
   "outputs": [],
   "source": [
    "data_path = \"./ecg_resources/data\"\n",
    "label_path = \"./ecg_resources/annotations.csv\"\n",
    "output_path = \"./data\"\n",
    "\n",
    "min_length = 2200 # this is length of the shortest timestamp\n",
    "batch = []\n",
    "\n",
    "labels = np.loadtxt(label_path, delimiter=',', skiprows=1, dtype=str)\n",
    "trimed_labels = np.delete(labels, [0, 1, 2, 3, -1], axis=1)\n",
    "casted_labels = trimed_labels.astype(np.float32)\n",
    "\n",
    "filename = \"batch\"\n",
    "file_group = 1\n",
    "\n",
    "os.makedirs(output_path, exist_ok=True)"
   ]
  },
  {
   "cell_type": "code",
   "execution_count": null,
   "metadata": {},
   "outputs": [],
   "source": [
    "while file_group <= 39_999:\n",
    "    record_name = f\"TNMG{file_group}_N1\"\n",
    "    print(f\"Processing record: {record_name}\")\n",
    "    try:\n",
    "        record_signal = wfdb.rdrecord(os.path.join(data_path, record_name)).p_signal\n",
    "\n",
    "        if record_signal.shape[0] > min_length:\n",
    "            trimmed_signal = record_signal[:min_length, :]\n",
    "        else:\n",
    "            trimmed_signal = record_signal\n",
    "\n",
    "        batch.append(trimmed_signal)\n",
    "\n",
    "    except Exception as e:\n",
    "        print(f\"Can't load file: {record_name}, error: {e}\\n\")\n",
    "        file_group += 1\n",
    "        continue\n",
    "\n",
    "    if len(batch) == 100:\n",
    "        numpy_array = np.array(batch, dtype=np.float32)\n",
    "        trimmed_labels = casted_labels[:100]\n",
    "\n",
    "        np.savez(os.path.join(output_path, f\"{filename}-{int(file_group / 100)}.npz\"),\n",
    "                 signals=numpy_array, labels=trimmed_labels)\n",
    "\n",
    "        print(f\"Batch saved as {filename}-{int(file_group / 100)}.npz\\n\")\n",
    "\n",
    "        batch = []\n",
    "        casted_labels = casted_labels[100:]\n",
    "\n",
    "    file_group += 1"
   ]
  },
  {
   "cell_type": "markdown",
   "metadata": {},
   "source": [
    "## Creating a PyTorch dataset"
   ]
  },
  {
   "cell_type": "code",
   "execution_count": 1,
   "metadata": {},
   "outputs": [
    {
     "data": {
      "text/plain": [
       "'2.5.1+cu124'"
      ]
     },
     "execution_count": 1,
     "metadata": {},
     "output_type": "execute_result"
    }
   ],
   "source": [
    "import torch\n",
    "\n",
    "torch.__version__"
   ]
  },
  {
   "cell_type": "code",
   "execution_count": null,
   "metadata": {},
   "outputs": [],
   "source": [
    "input_path = \"./data\"\n",
    "\n",
    "data = []\n",
    "labels = []\n",
    "\n",
    "for i, file in enumerate(os.listdir(input_path)):\n",
    "    print(f\"{i}. processing file: {file}\")\n",
    "    file_path = os.path.join(input_path, file)\n",
    "\n",
    "    record = np.load(file_path)\n",
    "    signals = record[\"signals\"]\n",
    "    label = record[\"labels\"]\n",
    "\n",
    "    data.append(signals)\n",
    "    labels.append(label)\n",
    "\n",
    "data = np.array(data)\n",
    "labels = np.array(labels)\n",
    "\n",
    "torch.save({'data': data, 'labels': labels}, 'dataset.pt')"
   ]
  },
  {
   "cell_type": "markdown",
   "metadata": {},
   "source": [
    "## Dataset class"
   ]
  },
  {
   "cell_type": "code",
   "execution_count": 28,
   "metadata": {},
   "outputs": [],
   "source": [
    "from torch.utils.data import Dataset\n",
    "\n",
    "class ECGDataset(Dataset):\n",
    "    def __init__(self, data, labels):\n",
    "        self.data = torch.tensor(data, dtype=torch.float32)\n",
    "        self.labels = torch.tensor(labels, dtype=torch.long)\n",
    "\n",
    "        self.num_samples = self.data.shape[0] * self.data.shape[1]\n",
    "\n",
    "    def __len__(self):\n",
    "        return self.num_samples\n",
    "\n",
    "    def __getitem__(self, idx):\n",
    "        file_idx = idx // self.data.shape[1]\n",
    "        matrix_idx = idx % self.data.shape[1]\n",
    "\n",
    "        x = self.data[file_idx, matrix_idx]\n",
    "        y = self.labels[file_idx]\n",
    "\n",
    "        y = y[matrix_idx]\n",
    "\n",
    "        return x, y"
   ]
  },
  {
   "cell_type": "markdown",
   "metadata": {},
   "source": [
    "## Model class"
   ]
  },
  {
   "cell_type": "code",
   "execution_count": 12,
   "metadata": {},
   "outputs": [],
   "source": [
    "import torch.nn as nn\n",
    "\n",
    "class MulticlassClassifier(nn.Module):\n",
    "    def __init__(self, input_dim, hidden_dim, output_dim):\n",
    "        super(MulticlassClassifier, self).__init__()\n",
    "        self.fc1 = nn.Linear(input_dim, hidden_dim)\n",
    "        self.relu = nn.ReLU()\n",
    "        self.fc2 = nn.Linear(hidden_dim, output_dim)\n",
    "\n",
    "    def forward(self, x):\n",
    "        x = self.fc1(x)\n",
    "        x = self.relu(x)\n",
    "        x = self.fc2(x)\n",
    "        return x"
   ]
  },
  {
   "cell_type": "markdown",
   "metadata": {},
   "source": [
    "## Model training"
   ]
  },
  {
   "cell_type": "code",
   "execution_count": 29,
   "metadata": {},
   "outputs": [],
   "source": [
    "device = \"cuda\" if torch.cuda.is_available() else \"cpu\""
   ]
  },
  {
   "cell_type": "code",
   "execution_count": 30,
   "metadata": {},
   "outputs": [],
   "source": [
    "input_dim = 300\n",
    "hidden_dim = 128\n",
    "output_dim = 6\n",
    "\n",
    "model = MulticlassClassifier(input_dim, hidden_dim, output_dim).to(device)\n",
    "\n",
    "criterion = nn.CrossEntropyLoss()\n",
    "optimizer = torch.optim.Adam(model.parameters(), lr=0.001)"
   ]
  },
  {
   "cell_type": "code",
   "execution_count": 31,
   "metadata": {},
   "outputs": [],
   "source": [
    "from torch.utils.data import DataLoader\n",
    "\n",
    "dataset_load = torch.load(\"dataset.pt\", weights_only=False)\n",
    "dataset = ECGDataset(dataset_load[\"data\"], dataset_load[\"labels\"])\n",
    "\n",
    "data_loader = DataLoader(dataset, batch_size=32, shuffle=True)"
   ]
  },
  {
   "cell_type": "code",
   "execution_count": null,
   "metadata": {},
   "outputs": [],
   "source": [
    "epochs = 100\n",
    "for epoch in range(epochs):\n",
    "    model.train()\n",
    "    for inputs, labels in data_loader:\n",
    "        inputs = inputs.to(device)\n",
    "        labels = labels.to(device)\n",
    "        \n",
    "        outputs = model(inputs).to(device)\n",
    "        \n",
    "        loss = criterion(outputs, labels)\n",
    "        optimizer.zero_grad()\n",
    "        loss.backward()\n",
    "        optimizer.step()\n",
    "\n",
    "    print(f\"Epoch {epoch+1}/{epochs}, Loss: {loss.item():.4f}\")"
   ]
  }
 ],
 "metadata": {
  "kernelspec": {
   "display_name": "env",
   "language": "python",
   "name": "python3"
  },
  "language_info": {
   "codemirror_mode": {
    "name": "ipython",
    "version": 3
   },
   "file_extension": ".py",
   "mimetype": "text/x-python",
   "name": "python",
   "nbconvert_exporter": "python",
   "pygments_lexer": "ipython3",
   "version": "3.12.9"
  }
 },
 "nbformat": 4,
 "nbformat_minor": 2
}
